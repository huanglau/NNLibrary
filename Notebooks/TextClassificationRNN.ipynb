{
 "cells": [
  {
   "cell_type": "markdown",
   "metadata": {
    "colab_type": "text",
    "id": "xAkGLARhozvD"
   },
   "source": [
    "# Text Classification with RNN\n",
    "\n",
    "This uses the fake news and real news dataset on kaggle. You can download the data here:\n",
    "https://www.kaggle.com/clmentbisaillon/fake-and-real-news-dataset"
   ]
  },
  {
   "cell_type": "code",
   "execution_count": 1,
   "metadata": {
    "colab": {},
    "colab_type": "code",
    "id": "v4_dukKEm1VL"
   },
   "outputs": [
    {
     "name": "stderr",
     "output_type": "stream",
     "text": [
      "/home/vector/anaconda3/envs/KerasGPU2.2.4/lib/python3.7/site-packages/tensorflow/python/framework/dtypes.py:526: FutureWarning: Passing (type, 1) or '1type' as a synonym of type is deprecated; in a future version of numpy, it will be understood as (type, (1,)) / '(1,)type'.\n",
      "  _np_qint8 = np.dtype([(\"qint8\", np.int8, 1)])\n",
      "/home/vector/anaconda3/envs/KerasGPU2.2.4/lib/python3.7/site-packages/tensorflow/python/framework/dtypes.py:527: FutureWarning: Passing (type, 1) or '1type' as a synonym of type is deprecated; in a future version of numpy, it will be understood as (type, (1,)) / '(1,)type'.\n",
      "  _np_quint8 = np.dtype([(\"quint8\", np.uint8, 1)])\n",
      "/home/vector/anaconda3/envs/KerasGPU2.2.4/lib/python3.7/site-packages/tensorflow/python/framework/dtypes.py:528: FutureWarning: Passing (type, 1) or '1type' as a synonym of type is deprecated; in a future version of numpy, it will be understood as (type, (1,)) / '(1,)type'.\n",
      "  _np_qint16 = np.dtype([(\"qint16\", np.int16, 1)])\n",
      "/home/vector/anaconda3/envs/KerasGPU2.2.4/lib/python3.7/site-packages/tensorflow/python/framework/dtypes.py:529: FutureWarning: Passing (type, 1) or '1type' as a synonym of type is deprecated; in a future version of numpy, it will be understood as (type, (1,)) / '(1,)type'.\n",
      "  _np_quint16 = np.dtype([(\"quint16\", np.uint16, 1)])\n",
      "/home/vector/anaconda3/envs/KerasGPU2.2.4/lib/python3.7/site-packages/tensorflow/python/framework/dtypes.py:530: FutureWarning: Passing (type, 1) or '1type' as a synonym of type is deprecated; in a future version of numpy, it will be understood as (type, (1,)) / '(1,)type'.\n",
      "  _np_qint32 = np.dtype([(\"qint32\", np.int32, 1)])\n",
      "/home/vector/anaconda3/envs/KerasGPU2.2.4/lib/python3.7/site-packages/tensorflow/python/framework/dtypes.py:535: FutureWarning: Passing (type, 1) or '1type' as a synonym of type is deprecated; in a future version of numpy, it will be understood as (type, (1,)) / '(1,)type'.\n",
      "  np_resource = np.dtype([(\"resource\", np.ubyte, 1)])\n"
     ]
    }
   ],
   "source": [
    "# load packages\n",
    "import tensorflow as tf\n",
    "import pandas as pd\n",
    "import numpy as np\n",
    "import matplotlib.pyplot as plt\n",
    "from sklearn.model_selection import train_test_split\n",
    "from sklearn.metrics import classification_report\n",
    "\n",
    "from tensorflow.keras.preprocessing.text import Tokenizer\n",
    "from tensorflow.keras.preprocessing import sequence\n"
   ]
  },
  {
   "cell_type": "markdown",
   "metadata": {
    "colab_type": "text",
    "id": "VVX3PUETm3Zt"
   },
   "source": []
  },
  {
   "cell_type": "code",
   "execution_count": 2,
   "metadata": {
    "colab": {},
    "colab_type": "code",
    "id": "IFhydkZrEaeF"
   },
   "outputs": [],
   "source": [
    "# load data\n",
    "fake_news = pd.read_csv('../../Data/FakeNews/Fake.csv')\n",
    "true_news = pd.read_csv('../../Data/FakeNews/True.csv')\n",
    "\n",
    "# add the classification to the pandas dataframe\n",
    "fake_news['true'] = 1\n",
    "true_news['true'] = 0\n",
    "\n",
    "# Merge data into one dataframe\n",
    "news = pd.concat([true_news[['text', 'true']], fake_news[['text', 'true']]])\n",
    "\n",
    "# split into train test validate\n",
    "train, test_val = train_test_split(news, test_size=0.2)\n",
    "test, val = train_test_split(test_val, test_size=0.5)"
   ]
  },
  {
   "cell_type": "markdown",
   "metadata": {
    "colab_type": "text",
    "id": "ECE6x5ZBnDX2"
   },
   "source": [
    "# Tokenizing"
   ]
  },
  {
   "cell_type": "code",
   "execution_count": 3,
   "metadata": {
    "colab": {
     "base_uri": "https://localhost:8080/",
     "height": 325
    },
    "colab_type": "code",
    "id": "Fw9pMqfXrvBh",
    "outputId": "555d48b6-f2a2-4ecf-abd3-d7c5289f0112"
   },
   "outputs": [],
   "source": [
    "#%% tokenize data\n",
    "max_length = 500\n",
    "max_words = 1000\n",
    "tokenizer = Tokenizer(num_words = max_words, oov_token = '<OOV>')\n",
    "\n",
    "# don't include training or test data in word index\n",
    "tokenizer.fit_on_texts(train['text'].values) \n",
    "\n",
    "# tokenize\n",
    "sequences = tokenizer.texts_to_sequences(train['text'].values)\n",
    "test_sequences = tokenizer.texts_to_sequences(test['text'].values)\n",
    "val_sequences = tokenizer.texts_to_sequences(val['text'].values)\n",
    "\n",
    "# pad to same length\n",
    "sequences_matrix = sequence.pad_sequences(sequences, maxlen=max_length)\n",
    "test_sequences_matrix = sequence.pad_sequences(test_sequences, maxlen=max_length)\n",
    "val_sequences_matrix = sequence.pad_sequences(val_sequences, maxlen=max_length)\n",
    "\n"
   ]
  },
  {
   "cell_type": "markdown",
   "metadata": {
    "colab_type": "text",
    "id": "TrkLkhywm_9S"
   },
   "source": [
    "# Build model"
   ]
  },
  {
   "cell_type": "code",
   "execution_count": 4,
   "metadata": {
    "colab": {
     "base_uri": "https://localhost:8080/",
     "height": 377
    },
    "colab_type": "code",
    "id": "LXWFTyChFzOu",
    "outputId": "0a59557a-478f-415c-8f63-dbd73ae6d1b1"
   },
   "outputs": [
    {
     "name": "stdout",
     "output_type": "stream",
     "text": [
      "WARNING:tensorflow:From /home/vector/anaconda3/envs/KerasGPU2.2.4/lib/python3.7/site-packages/tensorflow/python/ops/resource_variable_ops.py:435: colocate_with (from tensorflow.python.framework.ops) is deprecated and will be removed in a future version.\n",
      "Instructions for updating:\n",
      "Colocations handled automatically by placer.\n",
      "WARNING:tensorflow:From /home/vector/anaconda3/envs/KerasGPU2.2.4/lib/python3.7/site-packages/tensorflow/python/keras/layers/core.py:143: calling dropout (from tensorflow.python.ops.nn_ops) with keep_prob is deprecated and will be removed in a future version.\n",
      "Instructions for updating:\n",
      "Please use `rate` instead of `keep_prob`. Rate should be set to `rate = 1 - keep_prob`.\n",
      "_________________________________________________________________\n",
      "Layer (type)                 Output Shape              Param #   \n",
      "=================================================================\n",
      "embedding (Embedding)        (None, 500, 64)           64000     \n",
      "_________________________________________________________________\n",
      "bidirectional (Bidirectional (None, 128)               66048     \n",
      "_________________________________________________________________\n",
      "dense (Dense)                (None, 64)                8256      \n",
      "_________________________________________________________________\n",
      "dense_1 (Dense)              (None, 64)                4160      \n",
      "_________________________________________________________________\n",
      "dropout (Dropout)            (None, 64)                0         \n",
      "_________________________________________________________________\n",
      "dense_2 (Dense)              (None, 1)                 65        \n",
      "=================================================================\n",
      "Total params: 142,529\n",
      "Trainable params: 142,529\n",
      "Non-trainable params: 0\n",
      "_________________________________________________________________\n"
     ]
    }
   ],
   "source": [
    "def build_model(num_outputs = 1):\n",
    "    model = tf.keras.Sequential()\n",
    "    model.add(tf.keras.layers.Embedding(max_words, 64, input_length=max_length))\n",
    "    model.add(tf.keras.layers.Bidirectional(tf.keras.layers.LSTM(64)))\n",
    "    model.add(tf.keras.layers.Dense(64, activation='relu'))\n",
    "    model.add(tf.keras.layers.Dense(64, activation='relu'))\n",
    "    model.add(tf.keras.layers.Dropout(0.5))\n",
    "    \n",
    "    model.add(tf.keras.layers.Dense(num_outputs))\n",
    "    \n",
    "    return model\n",
    "\n",
    "model = build_model()\n",
    "model.summary()"
   ]
  },
  {
   "cell_type": "code",
   "execution_count": 5,
   "metadata": {
    "colab": {},
    "colab_type": "code",
    "id": "tB-zniaj-tF9"
   },
   "outputs": [],
   "source": [
    "# compile model    \n",
    "model.compile(optimizer = tf.keras.optimizers.Adam(lr=1e-4),\n",
    "              loss = 'binary_crossentropy',\n",
    "              metrics = ['accuracy'])"
   ]
  },
  {
   "cell_type": "markdown",
   "metadata": {
    "colab_type": "text",
    "id": "ANSogecuWw53"
   },
   "source": [
    "# Train\n"
   ]
  },
  {
   "cell_type": "code",
   "execution_count": 6,
   "metadata": {
    "colab": {
     "base_uri": "https://localhost:8080/",
     "height": 55
    },
    "colab_type": "code",
    "id": "QPEBjhQM-yOc",
    "outputId": "b8e48154-88d7-404f-f16e-f29b30b561f0"
   },
   "outputs": [
    {
     "name": "stdout",
     "output_type": "stream",
     "text": [
      "Train on 35918 samples, validate on 4490 samples\n",
      "WARNING:tensorflow:From /home/vector/anaconda3/envs/KerasGPU2.2.4/lib/python3.7/site-packages/tensorflow/python/ops/math_ops.py:3066: to_int32 (from tensorflow.python.ops.math_ops) is deprecated and will be removed in a future version.\n",
      "Instructions for updating:\n",
      "Use tf.cast instead.\n",
      "Epoch 1/5\n",
      "35918/35918 [==============================] - 235s 7ms/sample - loss: 1.2641 - acc: 0.4853 - val_loss: 0.7451 - val_acc: 0.5955\n",
      "Epoch 2/5\n",
      "35918/35918 [==============================] - 231s 6ms/sample - loss: 0.7121 - acc: 0.5535 - val_loss: 0.5664 - val_acc: 0.7354\n",
      "Epoch 3/5\n",
      "35918/35918 [==============================] - 230s 6ms/sample - loss: 0.4561 - acc: 0.8020 - val_loss: 0.2585 - val_acc: 0.9254\n",
      "Epoch 4/5\n",
      "35918/35918 [==============================] - 230s 6ms/sample - loss: 3.2531 - acc: 0.7543 - val_loss: 4.8219 - val_acc: 0.6737\n",
      "Epoch 5/5\n",
      "35918/35918 [==============================] - 235s 7ms/sample - loss: 5.0063 - acc: 0.6677 - val_loss: 5.3211 - val_acc: 0.6526\n"
     ]
    }
   ],
   "source": [
    "# train\n",
    "history = model.fit(sequences_matrix,\n",
    "                    train['true'].values,\n",
    "                    validation_data = ([val_sequences_matrix, val['true'].values]),\n",
    "                    batch_size = 128,\n",
    "                    epochs = 5)\n",
    "    "
   ]
  },
  {
   "cell_type": "markdown",
   "metadata": {
    "colab_type": "text",
    "id": "QfECgQ4oX4qB"
   },
   "source": [
    "# Error Metrics"
   ]
  },
  {
   "cell_type": "code",
   "execution_count": 8,
   "metadata": {
    "colab": {},
    "colab_type": "code",
    "id": "T4ry09_9e8p1"
   },
   "outputs": [
    {
     "data": {
      "image/png": "[encoded data removed]",
      "text/plain": [
       "<Figure size 432x288 with 1 Axes>"
      ]
     },
     "metadata": {
      "needs_background": "light"
     },
     "output_type": "display_data"
    },
    {
     "data": {
      "image/png": "[encoded data removed]",
      "text/plain": [
       "<Figure size 432x288 with 1 Axes>"
      ]
     },
     "metadata": {
      "needs_background": "light"
     },
     "output_type": "display_data"
    }
   ],
   "source": [
    "\n",
    "def plotHistory(history):\n",
    "    ''' This function plots the training and validation loss and accuracy. This code has been writen in the Keras\n",
    "    documentation which is very useful. \n",
    "    '''\n",
    "    # Plot training & validation accuracy values\n",
    "    plt.plot(np.arange(1,len(history.history['acc'])+1), history.history['acc'])\n",
    "    plt.plot(np.arange(1,len(history.history['acc'])+1),history.history['val_acc'])\n",
    "    plt.title('Model accuracy')\n",
    "    plt.ylabel('Accuracy')\n",
    "    plt.xlabel('Epoch')\n",
    "    plt.legend(['Train', 'Test'], loc='upper left')\n",
    "    plt.show()\n",
    "\n",
    "    # Plot training & validation loss values\n",
    "    plt.plot(np.arange(1,len(history.history['acc'])+1),history.history['loss'])\n",
    "    plt.plot(np.arange(1,len(history.history['acc'])+1),history.history['val_loss'])\n",
    "    plt.title('Model loss')\n",
    "    plt.ylabel('Loss')\n",
    "    plt.xlabel('Epoch')\n",
    "    plt.legend(['Train', 'Test'], loc='upper left')\n",
    "    plt.show()\n",
    "\n",
    "# show the training history in a plot.\n",
    "plotHistory(history)\n"
   ]
  },
  {
   "cell_type": "code",
   "execution_count": 10,
   "metadata": {},
   "outputs": [],
   "source": [
    "# we will input x_test data in to model, and get the predicted labels\n",
    "predictions = model.predict(test_sequences_matrix)\n"
   ]
  },
  {
   "cell_type": "code",
   "execution_count": null,
   "metadata": {},
   "outputs": [],
   "source": [
    "# print classification report\n",
    "print(classification_report(test['true'].values, predictions>0.5))\n"
   ]
  },
  {
   "cell_type": "code",
   "execution_count": null,
   "metadata": {},
   "outputs": [],
   "source": [
    "# print text, it's label, and model prediction\n",
    "prediction_index = 5\n",
    "print(test['text'].values[prediction_index])\n",
    "print(test['true'].values[prediction_index])\n",
    "print(predictions[prediction_index])\n",
    "    "
   ]
  }
 ],
 "metadata": {
  "colab": {
   "collapsed_sections": [],
   "name": "TextClassificationRNN",
   "provenance": [],
   "toc_visible": true
  },
  "kernelspec": {
   "display_name": "Python 3",
   "language": "python",
   "name": "python3"
  },
  "language_info": {
   "codemirror_mode": {
    "name": "ipython",
    "version": 3
   },
   "file_extension": ".py",
   "mimetype": "text/x-python",
   "name": "python",
   "nbconvert_exporter": "python",
   "pygments_lexer": "ipython3",
   "version": "3.7.6"
  }
 },
 "nbformat": 4,
 "nbformat_minor": 1
}
