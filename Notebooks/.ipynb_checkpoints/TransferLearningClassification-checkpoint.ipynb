{
 "cells": [
  {
   "cell_type": "markdown",
   "metadata": {
    "colab_type": "text",
    "id": "GHz97LU3xE3e"
   },
   "source": [
    "# Simple Transfer Learning Example in Tensorflow\n",
    "\n",
    "This notebook goes over a simple classification problem using tensorflow. I used is a pretrained VGG16 model, and data in the Cifar dataset.\n",
    "\n"
   ]
  },
  {
   "cell_type": "code",
   "execution_count": 28,
   "metadata": {
    "colab": {},
    "colab_type": "code",
    "id": "VsOEL-61xDt7"
   },
   "outputs": [],
   "source": [
    "# some helpful packages\n",
    "import matplotlib.pyplot as plt\n",
    "import numpy as np\n",
    "import tensorflow.keras as keras\n",
    "#import keras\n",
    "\n",
    "%matplotlib inline"
   ]
  },
  {
   "cell_type": "markdown",
   "metadata": {
    "colab_type": "text",
    "id": "69dQhHYf14c7"
   },
   "source": [
    "Let's start by loading the CIFAR dataset. We will load the CIFAR-10 dataset found in keras that contains common images with 10 classes. These images are small(32 by 32 pixels), and are 3-channel RGB images.\n",
    "\n",
    "\n",
    "\n"
   ]
  },
  {
   "cell_type": "code",
   "execution_count": 29,
   "metadata": {
    "colab": {},
    "colab_type": "code",
    "id": "GEPICutj13lT"
   },
   "outputs": [],
   "source": [
    "# load the training and testing data\n",
    "(x_train, y_train), (x_test, y_test) = keras.datasets.cifar10.load_data()\n",
    "img_cols, img_rows, img_chs = x_train.shape[1:]\n",
    "num_classes = 10\n",
    "\n",
    "x_test, x_val = np.split(x_test, 2)\n",
    "y_test, y_val = np.split(y_test, 2)"
   ]
  },
  {
   "cell_type": "code",
   "execution_count": 30,
   "metadata": {
    "colab": {
     "base_uri": "https://localhost:8080/",
     "height": 266
    },
    "colab_type": "code",
    "id": "Wvs5QL644bMw",
    "outputId": "a6e64919-5c6b-4882-903c-3058d557dbe3"
   },
   "outputs": [
    {
     "data": {
      "image/png": "[encoded data removed]",
      "text/plain": [
       "<Figure size 432x288 with 1 Axes>"
      ]
     },
     "metadata": {
      "needs_background": "light",
      "tags": []
     },
     "output_type": "display_data"
    }
   ],
   "source": [
    "# display one of the images with matplotlib\n",
    "plt.imshow(x_train[0,:,:])\n",
    "plt.show()"
   ]
  },
  {
   "cell_type": "markdown",
   "metadata": {
    "colab_type": "text",
    "id": "lfGaNsUD8-6L"
   },
   "source": [
    "We need to do some preprocessing before we start training. First we want to **scale** the images from [0,1]. This is not the only way to normalize an image.\n",
    "Generally this helps the model converge faster but it isn't strictly nessecary. We also converted the labels (y_train, and y_test) into one-hot encoded data.\n",
    "\n",
    "We also split the testing data, into two. This is so we get **training, testing and validation data**. It is important to keep the data separate so we are not training on the testing data, causing overfitting, and making the model seem like it's preforming better than it is.\n",
    "\n",
    "The **training** data will be used to adjust the weights in the model. The **testing** data will be used to assess how well the model is preforming. This information can be used to adjust hyperparameters like learning rate, number of epoochs, batch size and more. When we are finally done with our model, we then use the **validation** data to get a final assessement of how well the model preforms. \n",
    "\n",
    "\n",
    "*Please note that some references switch the meanings behind testing and validation data. It is important that we keep it clear what data is what.*\n"
   ]
  },
  {
   "cell_type": "code",
   "execution_count": 31,
   "metadata": {
    "colab": {},
    "colab_type": "code",
    "id": "5_r5Avk_9-ha"
   },
   "outputs": [],
   "source": [
    "# normalize the images from [0,1]\n",
    "x_train = x_train / 255\n",
    "x_test = x_test / 255\n",
    "x_val = x_val / 255\n",
    "\n",
    "# convert convert the data into hot-encoded data\n",
    "y_train = keras.utils.to_categorical(y_train, num_classes)\n",
    "y_test = keras.utils.to_categorical(y_test, num_classes)\n",
    "y_val = keras.utils.to_categorical(y_val, num_classes)"
   ]
  },
  {
   "cell_type": "markdown",
   "metadata": {
    "colab_type": "text",
    "id": "ZDzszXfE_S-T"
   },
   "source": [
    "# Building a Model \n",
    "\n",
    "We will be using one of Keras' pretrained models. This will be **VGG16**. Keras has many pretrained models avalible. You can find documentation here:https://keras.io/api/applications/. You can also find Keras' library of pretrained models.\n",
    "\n",
    "First lets load the model. In this example we are loading VGG16, a convolutional neural network proposed by K. Simonyan and A. Zisserman. If you would like more information you can read about it in their paper here: https://arxiv.org/abs/1409.1556\n",
    "\n",
    "We will load VGG16 with the following line. Here we can specify the shape of the input image, the training weights, and if the last few layers of the model will or will not be included. \n",
    "\n",
    "In this situation, we do not need to resize our images. We can load the pretrained model, and adjust the input layer. In some models, we can't resize the input layer, and must resize the images instead.\n"
   ]
  },
  {
   "cell_type": "code",
   "execution_count": 32,
   "metadata": {
    "colab": {},
    "colab_type": "code",
    "id": "HwmpDTlH0LV8"
   },
   "outputs": [],
   "source": [
    "# we will load VGG16 with the following line. Here we can specify the shape of the input image, the training weights, and if the last few layers of the model will or willnot be included\n",
    "base_model =  keras.applications.vgg16.VGG16(input_shape=[img_cols, img_rows, img_chs], include_top = False, pooling=\"avg\", weights = 'imagenet')"
   ]
  },
  {
   "cell_type": "markdown",
   "metadata": {
    "colab_type": "text",
    "id": "F8UTk8OQ0u9D"
   },
   "source": [
    "We have loaded the model. Now let's take a closer look at the layers. If we want more information on a model we can use the method '.summary()' to print a summary."
   ]
  },
  {
   "cell_type": "code",
   "execution_count": 33,
   "metadata": {
    "colab": {
     "base_uri": "https://localhost:8080/",
     "height": 881
    },
    "colab_type": "code",
    "id": "IFkZekui0ul8",
    "outputId": "ccab3ab4-47ca-452b-9c1d-06420a983c30"
   },
   "outputs": [
    {
     "name": "stdout",
     "output_type": "stream",
     "text": [
      "Model: \"vgg16\"\n",
      "_________________________________________________________________\n",
      "Layer (type)                 Output Shape              Param #   \n",
      "=================================================================\n",
      "input_2 (InputLayer)         [(None, 32, 32, 3)]       0         \n",
      "_________________________________________________________________\n",
      "block1_conv1 (Conv2D)        (None, 32, 32, 64)        1792      \n",
      "_________________________________________________________________\n",
      "block1_conv2 (Conv2D)        (None, 32, 32, 64)        36928     \n",
      "_________________________________________________________________\n",
      "block1_pool (MaxPooling2D)   (None, 16, 16, 64)        0         \n",
      "_________________________________________________________________\n",
      "block2_conv1 (Conv2D)        (None, 16, 16, 128)       73856     \n",
      "_________________________________________________________________\n",
      "block2_conv2 (Conv2D)        (None, 16, 16, 128)       147584    \n",
      "_________________________________________________________________\n",
      "block2_pool (MaxPooling2D)   (None, 8, 8, 128)         0         \n",
      "_________________________________________________________________\n",
      "block3_conv1 (Conv2D)        (None, 8, 8, 256)         295168    \n",
      "_________________________________________________________________\n",
      "block3_conv2 (Conv2D)        (None, 8, 8, 256)         590080    \n",
      "_________________________________________________________________\n",
      "block3_conv3 (Conv2D)        (None, 8, 8, 256)         590080    \n",
      "_________________________________________________________________\n",
      "block3_pool (MaxPooling2D)   (None, 4, 4, 256)         0         \n",
      "_________________________________________________________________\n",
      "block4_conv1 (Conv2D)        (None, 4, 4, 512)         1180160   \n",
      "_________________________________________________________________\n",
      "block4_conv2 (Conv2D)        (None, 4, 4, 512)         2359808   \n",
      "_________________________________________________________________\n",
      "block4_conv3 (Conv2D)        (None, 4, 4, 512)         2359808   \n",
      "_________________________________________________________________\n",
      "block4_pool (MaxPooling2D)   (None, 2, 2, 512)         0         \n",
      "_________________________________________________________________\n",
      "block5_conv1 (Conv2D)        (None, 2, 2, 512)         2359808   \n",
      "_________________________________________________________________\n",
      "block5_conv2 (Conv2D)        (None, 2, 2, 512)         2359808   \n",
      "_________________________________________________________________\n",
      "block5_conv3 (Conv2D)        (None, 2, 2, 512)         2359808   \n",
      "_________________________________________________________________\n",
      "block5_pool (MaxPooling2D)   (None, 1, 1, 512)         0         \n",
      "_________________________________________________________________\n",
      "global_average_pooling2d_1 ( (None, 512)               0         \n",
      "=================================================================\n",
      "Total params: 14,714,688\n",
      "Trainable params: 14,714,688\n",
      "Non-trainable params: 0\n",
      "_________________________________________________________________\n"
     ]
    }
   ],
   "source": [
    "base_model.summary()"
   ]
  },
  {
   "cell_type": "markdown",
   "metadata": {
    "colab_type": "text",
    "id": "eKI9SISw1iFI"
   },
   "source": [
    "\n",
    "Now we need to add in the output layers. If we used the argument 'include_top = False' above, then the model would output 1000 parameters. We would want this if we had 1000 classications. But we have 10 classifications.\n",
    "\n",
    "The last layer is a 'global_average_pooling2d' layer. We will add a fully connected layer, a drop out layer, and a dense layer that outlines how many classes we have.\n",
    "\n",
    "At this point, we could also **freeze** a few layers. What this means is the weights and biases found in the model will not change while the model is training. This can speed up training time, since we are not adjusting as many weights and bias. Since we are using a pretrained model, we can assume that a few of the layers get very important features from the images.\n"
   ]
  },
  {
   "cell_type": "code",
   "execution_count": 34,
   "metadata": {
    "colab": {},
    "colab_type": "code",
    "id": "sgSRFe6b_aeW"
   },
   "outputs": [],
   "source": [
    "num_freeze = 10\n",
    "num_outputs = num_classes\n",
    "\n",
    "# we can freeze a few layers. \n",
    "for layer in base_model.layers[:num_freeze]:\n",
    "  layer.trainable = False\n",
    "\n",
    "# add output layers\n",
    "x = keras.layers.Dense(128, activation='relu')(base_model.output)\n",
    "x = keras.layers.Dense(128, activation='relu')(x)\n",
    "x = keras.layers.Dropout(0.5)(x)\n",
    "\n",
    "# we need to ensure there are 10 nodes in this layer because we have 10 classes.\n",
    "x = keras.layers.Dense(num_outputs, activation='sigmoid')(x)\n",
    "\n",
    "model = keras.models.Model(inputs = base_model.input, outputs = x)    \n"
   ]
  },
  {
   "cell_type": "markdown",
   "metadata": {
    "colab_type": "text",
    "id": "CvAzqyNkrOsf"
   },
   "source": [
    "Now we compile the model. Here we specify the **loss function, optimizer, learning rate and accuracy**. If we want a custom loss function, optimizer or add a different error metric, we can specify that here."
   ]
  },
  {
   "cell_type": "code",
   "execution_count": 35,
   "metadata": {
    "colab": {
     "base_uri": "https://localhost:8080/",
     "height": 1000
    },
    "colab_type": "code",
    "id": "VlAOJ3apB9A3",
    "outputId": "140098b3-ce87-4d98-83ab-73904b78dc8e"
   },
   "outputs": [
    {
     "name": "stdout",
     "output_type": "stream",
     "text": [
      "Model: \"model_1\"\n",
      "_________________________________________________________________\n",
      "Layer (type)                 Output Shape              Param #   \n",
      "=================================================================\n",
      "input_2 (InputLayer)         [(None, 32, 32, 3)]       0         \n",
      "_________________________________________________________________\n",
      "block1_conv1 (Conv2D)        (None, 32, 32, 64)        1792      \n",
      "_________________________________________________________________\n",
      "block1_conv2 (Conv2D)        (None, 32, 32, 64)        36928     \n",
      "_________________________________________________________________\n",
      "block1_pool (MaxPooling2D)   (None, 16, 16, 64)        0         \n",
      "_________________________________________________________________\n",
      "block2_conv1 (Conv2D)        (None, 16, 16, 128)       73856     \n",
      "_________________________________________________________________\n",
      "block2_conv2 (Conv2D)        (None, 16, 16, 128)       147584    \n",
      "_________________________________________________________________\n",
      "block2_pool (MaxPooling2D)   (None, 8, 8, 128)         0         \n",
      "_________________________________________________________________\n",
      "block3_conv1 (Conv2D)        (None, 8, 8, 256)         295168    \n",
      "_________________________________________________________________\n",
      "block3_conv2 (Conv2D)        (None, 8, 8, 256)         590080    \n",
      "_________________________________________________________________\n",
      "block3_conv3 (Conv2D)        (None, 8, 8, 256)         590080    \n",
      "_________________________________________________________________\n",
      "block3_pool (MaxPooling2D)   (None, 4, 4, 256)         0         \n",
      "_________________________________________________________________\n",
      "block4_conv1 (Conv2D)        (None, 4, 4, 512)         1180160   \n",
      "_________________________________________________________________\n",
      "block4_conv2 (Conv2D)        (None, 4, 4, 512)         2359808   \n",
      "_________________________________________________________________\n",
      "block4_conv3 (Conv2D)        (None, 4, 4, 512)         2359808   \n",
      "_________________________________________________________________\n",
      "block4_pool (MaxPooling2D)   (None, 2, 2, 512)         0         \n",
      "_________________________________________________________________\n",
      "block5_conv1 (Conv2D)        (None, 2, 2, 512)         2359808   \n",
      "_________________________________________________________________\n",
      "block5_conv2 (Conv2D)        (None, 2, 2, 512)         2359808   \n",
      "_________________________________________________________________\n",
      "block5_conv3 (Conv2D)        (None, 2, 2, 512)         2359808   \n",
      "_________________________________________________________________\n",
      "block5_pool (MaxPooling2D)   (None, 1, 1, 512)         0         \n",
      "_________________________________________________________________\n",
      "global_average_pooling2d_1 ( (None, 512)               0         \n",
      "_________________________________________________________________\n",
      "dense_3 (Dense)              (None, 128)               65664     \n",
      "_________________________________________________________________\n",
      "dense_4 (Dense)              (None, 128)               16512     \n",
      "_________________________________________________________________\n",
      "dropout (Dropout)            (None, 128)               0         \n",
      "_________________________________________________________________\n",
      "dense_5 (Dense)              (None, 10)                1290      \n",
      "=================================================================\n",
      "Total params: 14,798,154\n",
      "Trainable params: 13,062,666\n",
      "Non-trainable params: 1,735,488\n",
      "_________________________________________________________________\n"
     ]
    },
    {
     "data": {
      "text/plain": [
       "None"
      ]
     },
     "metadata": {
      "tags": []
     },
     "output_type": "display_data"
    }
   ],
   "source": [
    "# compile model\n",
    "model.compile(loss=keras.losses.categorical_crossentropy,\n",
    "              optimizer=keras.optimizers.Adam(lr=1e-3),\n",
    "              metrics=['accuracy'])\n",
    "              \n",
    "# display a summary of the model              \n",
    "display(model.summary())"
   ]
  },
  {
   "cell_type": "markdown",
   "metadata": {
    "colab_type": "text",
    "id": "XnDZmdc5re7s"
   },
   "source": [
    "# Training \n",
    "\n",
    "Now it's time to train the network. Use the 'fit' method in keras to train using the training data. Validate on the testing data. We can chose a batch size and number of epochs to our liking. \n",
    "\n"
   ]
  },
  {
   "cell_type": "code",
   "execution_count": 36,
   "metadata": {
    "colab": {
     "base_uri": "https://localhost:8080/",
     "height": 377
    },
    "colab_type": "code",
    "id": "AVua9NsxAsDv",
    "outputId": "09a63918-6176-4924-edbd-dac081243671"
   },
   "outputs": [
    {
     "name": "stdout",
     "output_type": "stream",
     "text": [
      "Epoch 1/10\n",
      "397/397 [==============================] - 10s 24ms/step - loss: 1.7505 - accuracy: 0.2717 - val_loss: 1.3512 - val_accuracy: 0.4328\n",
      "Epoch 2/10\n",
      "397/397 [==============================] - 9s 24ms/step - loss: 1.2571 - accuracy: 0.5093 - val_loss: 0.9962 - val_accuracy: 0.6054\n",
      "Epoch 3/10\n",
      "397/397 [==============================] - 9s 24ms/step - loss: 0.9945 - accuracy: 0.6317 - val_loss: 0.9141 - val_accuracy: 0.6762\n",
      "Epoch 4/10\n",
      "397/397 [==============================] - 9s 24ms/step - loss: 0.8411 - accuracy: 0.7137 - val_loss: 0.8180 - val_accuracy: 0.7424\n",
      "Epoch 5/10\n",
      "397/397 [==============================] - 9s 24ms/step - loss: 0.7250 - accuracy: 0.7624 - val_loss: 0.7529 - val_accuracy: 0.7614\n",
      "Epoch 6/10\n",
      "397/397 [==============================] - 9s 24ms/step - loss: 0.6596 - accuracy: 0.7853 - val_loss: 0.7666 - val_accuracy: 0.7648\n",
      "Epoch 7/10\n",
      "397/397 [==============================] - 9s 24ms/step - loss: 0.5961 - accuracy: 0.8065 - val_loss: 0.7747 - val_accuracy: 0.7622\n",
      "Epoch 8/10\n",
      "397/397 [==============================] - 9s 24ms/step - loss: 0.5417 - accuracy: 0.8248 - val_loss: 0.7824 - val_accuracy: 0.7638\n",
      "Epoch 9/10\n",
      "397/397 [==============================] - 9s 24ms/step - loss: 0.4887 - accuracy: 0.8437 - val_loss: 0.7442 - val_accuracy: 0.7814\n",
      "Epoch 10/10\n",
      "397/397 [==============================] - 9s 24ms/step - loss: 0.4450 - accuracy: 0.8564 - val_loss: 0.7639 - val_accuracy: 0.7808\n"
     ]
    }
   ],
   "source": [
    "# fit the model\n",
    "history = model.fit(x_train, y_train,\n",
    "          batch_size = 126,\n",
    "          epochs = 10,\n",
    "          verbose = 1,\n",
    "          validation_data = (x_test, y_test))\n"
   ]
  },
  {
   "cell_type": "markdown",
   "metadata": {
    "colab_type": "text",
    "id": "Zj41Jx8as-zk"
   },
   "source": [
    "# Network Results\n",
    "\n",
    "To assess the model we can look at it's training history. We can plot the accuracy, and loss function of both the training data and testing data. If the testing data seems to preform much worse than the training data, that is a sign the model is overfitting.\n"
   ]
  },
  {
   "cell_type": "code",
   "execution_count": 37,
   "metadata": {
    "colab": {
     "base_uri": "https://localhost:8080/",
     "height": 609
    },
    "colab_type": "code",
    "id": "pZ6StB2YUj5d",
    "outputId": "55c2e2de-c37f-44e1-bea6-eaeff68b90fe"
   },
   "outputs": [
    {
     "data": {
      "image/png": "[encoded data removed]",
      "text/plain": [
       "<Figure size 432x288 with 1 Axes>"
      ]
     },
     "metadata": {
      "needs_background": "light",
      "tags": []
     },
     "output_type": "display_data"
    },
    {
     "data": {
      "image/png": "[encoded data removed]",
      "text/plain": [
       "<Figure size 432x288 with 1 Axes>"
      ]
     },
     "metadata": {
      "needs_background": "light",
      "tags": []
     },
     "output_type": "display_data"
    },
    {
     "name": "stdout",
     "output_type": "stream",
     "text": [
      "Test loss: 0.7638669013977051\n",
      "Test accuracy: 0.7807999849319458\n"
     ]
    }
   ],
   "source": [
    "\n",
    "def plotHistory(history):\n",
    "    ''' This function plots the training and validation loss and accuracy. This code has been writen in the Keras\n",
    "    documentation which is very useful. It is located at:  https://keras.io/visualization/\n",
    "    '''\n",
    "    # Plot training & validation accuracy values\n",
    "    plt.plot(history.history['accuracy'])\n",
    "    plt.plot(history.history['val_accuracy'])\n",
    "    plt.title('Model accuracy')\n",
    "    plt.ylabel('Accuracy')\n",
    "    plt.xlabel('Epoch')\n",
    "    plt.legend(['Train', 'Test'], loc='upper left')\n",
    "    plt.show()\n",
    "\n",
    "    # Plot training & validation loss values\n",
    "    plt.plot(history.history['loss'])\n",
    "    plt.plot(history.history['val_loss'])\n",
    "    plt.title('Model loss')\n",
    "    plt.ylabel('Loss')\n",
    "    plt.xlabel('Epoch')\n",
    "    plt.legend(['Train', 'Test'], loc='upper left')\n",
    "    plt.show()\n",
    "\n",
    "# show the training history in a plot.\n",
    "plotHistory(history)\n",
    "\n",
    "score = model.evaluate(x_test, y_test, verbose=0)\n",
    "print('Test loss:', score[0])\n",
    "print('Test accuracy:', score[1])"
   ]
  },
  {
   "cell_type": "markdown",
   "metadata": {
    "colab_type": "text",
    "id": "9Y5Iv0h--Fkv"
   },
   "source": [
    "# Error Metrics \n",
    "We can evaluate the model using the testing data. To do this we first have to convert the one-hot encoded variables back into integer labels.\n",
    "\n",
    "We can then use one of sklearn's many error metric functions. In this case we will use classification_report to get the prevision, recall and f1 score for ever label. Depending on the problem we are trying to solve, we might use different error metrics like AUC, FNR, FPR, error rate and more. "
   ]
  },
  {
   "cell_type": "code",
   "execution_count": 38,
   "metadata": {
    "colab": {
     "base_uri": "https://localhost:8080/",
     "height": 341
    },
    "colab_type": "code",
    "id": "Sk477kfYBip5",
    "outputId": "ba9dd20a-cfed-4f77-d6d2-9802bfdf62f0",
    "scrolled": false
   },
   "outputs": [
    {
     "name": "stdout",
     "output_type": "stream",
     "text": [
      "40/40 [==============================] - 0s 10ms/step\n",
      "              precision    recall  f1-score   support\n",
      "\n",
      "           0       0.80      0.82      0.81       488\n",
      "           1       0.89      0.87      0.88       505\n",
      "           2       0.84      0.63      0.72       512\n",
      "           3       0.59      0.53      0.56       497\n",
      "           4       0.70      0.81      0.75       507\n",
      "           5       0.60      0.74      0.66       488\n",
      "           6       0.83      0.85      0.84       491\n",
      "           7       0.91      0.79      0.84       495\n",
      "           8       0.85      0.93      0.89       504\n",
      "           9       0.85      0.83      0.84       513\n",
      "\n",
      "    accuracy                           0.78      5000\n",
      "   macro avg       0.79      0.78      0.78      5000\n",
      "weighted avg       0.79      0.78      0.78      5000\n",
      "\n"
     ]
    }
   ],
   "source": [
    "from sklearn.metrics import classification_report\n",
    "\n",
    "# we will input x_test data in to model, and get the predicted labels\n",
    "y_pred = model.predict(x_test, batch_size=128, verbose=1)\n",
    "\n",
    "# convert one-encoded values to integer labels\n",
    "y_pred_int = np.argmax(y_pred, axis=1)\n",
    "y_test_int = np.argmax(y_test, axis=1)\n",
    "\n",
    "# print a confusion matrix\n",
    "print(classification_report(y_test_int, y_pred_int))"
   ]
  },
  {
   "cell_type": "code",
   "execution_count": 38,
   "metadata": {
    "colab": {},
    "colab_type": "code",
    "id": "IGfBXwXxoJ7S"
   },
   "outputs": [],
   "source": []
  }
 ],
 "metadata": {
  "accelerator": "GPU",
  "colab": {
   "collapsed_sections": [],
   "name": "TransferLearningClassificationTutorial.ipynb",
   "provenance": []
  },
  "kernelspec": {
   "display_name": "Python 3",
   "language": "python",
   "name": "python3"
  },
  "language_info": {
   "codemirror_mode": {
    "name": "ipython",
    "version": 3
   },
   "file_extension": ".py",
   "mimetype": "text/x-python",
   "name": "python",
   "nbconvert_exporter": "python",
   "pygments_lexer": "ipython3",
   "version": "3.7.6"
  }
 },
 "nbformat": 4,
 "nbformat_minor": 1
}
