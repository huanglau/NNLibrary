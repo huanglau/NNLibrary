{
 "cells": [
  {
   "cell_type": "markdown",
   "metadata": {
    "colab_type": "text",
    "id": "xAkGLARhozvD"
   },
   "source": [
    "# Text Classification with RNN\n",
    "\n",
    "This uses the fake news and real news dataset on kaggle. You can download the data here:\n",
    "https://www.kaggle.com/clmentbisaillon/fake-and-real-news-dataset"
   ]
  },
  {
   "cell_type": "code",
   "execution_count": 1,
   "metadata": {
    "colab": {},
    "colab_type": "code",
    "id": "v4_dukKEm1VL"
   },
   "outputs": [
    {
     "name": "stderr",
     "output_type": "stream",
     "text": [
      "/home/vector/anaconda3/envs/KerasGPU2.2.4/lib/python3.7/site-packages/tensorflow/python/framework/dtypes.py:526: FutureWarning: Passing (type, 1) or '1type' as a synonym of type is deprecated; in a future version of numpy, it will be understood as (type, (1,)) / '(1,)type'.\n",
      "  _np_qint8 = np.dtype([(\"qint8\", np.int8, 1)])\n",
      "/home/vector/anaconda3/envs/KerasGPU2.2.4/lib/python3.7/site-packages/tensorflow/python/framework/dtypes.py:527: FutureWarning: Passing (type, 1) or '1type' as a synonym of type is deprecated; in a future version of numpy, it will be understood as (type, (1,)) / '(1,)type'.\n",
      "  _np_quint8 = np.dtype([(\"quint8\", np.uint8, 1)])\n",
      "/home/vector/anaconda3/envs/KerasGPU2.2.4/lib/python3.7/site-packages/tensorflow/python/framework/dtypes.py:528: FutureWarning: Passing (type, 1) or '1type' as a synonym of type is deprecated; in a future version of numpy, it will be understood as (type, (1,)) / '(1,)type'.\n",
      "  _np_qint16 = np.dtype([(\"qint16\", np.int16, 1)])\n",
      "/home/vector/anaconda3/envs/KerasGPU2.2.4/lib/python3.7/site-packages/tensorflow/python/framework/dtypes.py:529: FutureWarning: Passing (type, 1) or '1type' as a synonym of type is deprecated; in a future version of numpy, it will be understood as (type, (1,)) / '(1,)type'.\n",
      "  _np_quint16 = np.dtype([(\"quint16\", np.uint16, 1)])\n",
      "/home/vector/anaconda3/envs/KerasGPU2.2.4/lib/python3.7/site-packages/tensorflow/python/framework/dtypes.py:530: FutureWarning: Passing (type, 1) or '1type' as a synonym of type is deprecated; in a future version of numpy, it will be understood as (type, (1,)) / '(1,)type'.\n",
      "  _np_qint32 = np.dtype([(\"qint32\", np.int32, 1)])\n",
      "/home/vector/anaconda3/envs/KerasGPU2.2.4/lib/python3.7/site-packages/tensorflow/python/framework/dtypes.py:535: FutureWarning: Passing (type, 1) or '1type' as a synonym of type is deprecated; in a future version of numpy, it will be understood as (type, (1,)) / '(1,)type'.\n",
      "  np_resource = np.dtype([(\"resource\", np.ubyte, 1)])\n"
     ]
    }
   ],
   "source": [
    "# load packages\n",
    "import tensorflow as tf\n",
    "import pandas as pd\n",
    "import numpy as np\n",
    "import matplotlib.pyplot as plt\n",
    "from sklearn.model_selection import train_test_split\n",
    "from sklearn.metrics import classification_report\n",
    "\n",
    "from tensorflow.keras.preprocessing.text import Tokenizer\n",
    "from tensorflow.keras.preprocessing import sequence\n"
   ]
  },
  {
   "cell_type": "markdown",
   "metadata": {
    "colab_type": "text",
    "id": "VVX3PUETm3Zt"
   },
   "source": []
  },
  {
   "cell_type": "code",
   "execution_count": 2,
   "metadata": {
    "colab": {},
    "colab_type": "code",
    "id": "IFhydkZrEaeF"
   },
   "outputs": [],
   "source": [
    "# load data\n",
    "fake_news = pd.read_csv('../../Data/FakeNews/Fake.csv')\n",
    "true_news = pd.read_csv('../../Data/FakeNews/True.csv')\n",
    "\n",
    "# add the classification to the pandas dataframe\n",
    "fake_news['true'] = 1\n",
    "true_news['true'] = 0\n",
    "\n",
    "# Merge data into one dataframe\n",
    "news = pd.concat([true_news[['text', 'true']], fake_news[['text', 'true']]])\n",
    "\n",
    "# split into train test validate\n",
    "train, test_val = train_test_split(news, test_size=0.2)\n",
    "test, val = train_test_split(test_val, test_size=0.5)"
   ]
  },
  {
   "cell_type": "markdown",
   "metadata": {
    "colab_type": "text",
    "id": "ECE6x5ZBnDX2"
   },
   "source": [
    "# Tokenizing"
   ]
  },
  {
   "cell_type": "code",
   "execution_count": 3,
   "metadata": {
    "colab": {
     "base_uri": "https://localhost:8080/",
     "height": 325
    },
    "colab_type": "code",
    "id": "Fw9pMqfXrvBh",
    "outputId": "555d48b6-f2a2-4ecf-abd3-d7c5289f0112"
   },
   "outputs": [],
   "source": [
    "#%% tokenize data\n",
    "max_length = 500\n",
    "max_words = 1000\n",
    "tokenizer = Tokenizer(num_words = max_words, oov_token = '<OOV>')\n",
    "\n",
    "# don't include training or test data in word index\n",
    "tokenizer.fit_on_texts(train['text'].values) \n",
    "\n",
    "# tokenize\n",
    "sequences = tokenizer.texts_to_sequences(train['text'].values)\n",
    "test_sequences = tokenizer.texts_to_sequences(test['text'].values)\n",
    "val_sequences = tokenizer.texts_to_sequences(val['text'].values)\n",
    "\n",
    "# pad to same length\n",
    "sequences_matrix = sequence.pad_sequences(sequences, maxlen=max_length)\n",
    "test_sequences_matrix = sequence.pad_sequences(test_sequences, maxlen=max_length)\n",
    "val_sequences_matrix = sequence.pad_sequences(val_sequences, maxlen=max_length)\n",
    "\n"
   ]
  },
  {
   "cell_type": "markdown",
   "metadata": {
    "colab_type": "text",
    "id": "TrkLkhywm_9S"
   },
   "source": [
    "# Build model"
   ]
  },
  {
   "cell_type": "code",
   "execution_count": 4,
   "metadata": {
    "colab": {
     "base_uri": "https://localhost:8080/",
     "height": 377
    },
    "colab_type": "code",
    "id": "LXWFTyChFzOu",
    "outputId": "0a59557a-478f-415c-8f63-dbd73ae6d1b1"
   },
   "outputs": [
    {
     "name": "stdout",
     "output_type": "stream",
     "text": [
      "WARNING:tensorflow:From /home/vector/anaconda3/envs/KerasGPU2.2.4/lib/python3.7/site-packages/tensorflow/python/ops/resource_variable_ops.py:435: colocate_with (from tensorflow.python.framework.ops) is deprecated and will be removed in a future version.\n",
      "Instructions for updating:\n",
      "Colocations handled automatically by placer.\n",
      "WARNING:tensorflow:From /home/vector/anaconda3/envs/KerasGPU2.2.4/lib/python3.7/site-packages/tensorflow/python/keras/layers/core.py:143: calling dropout (from tensorflow.python.ops.nn_ops) with keep_prob is deprecated and will be removed in a future version.\n",
      "Instructions for updating:\n",
      "Please use `rate` instead of `keep_prob`. Rate should be set to `rate = 1 - keep_prob`.\n",
      "_________________________________________________________________\n",
      "Layer (type)                 Output Shape              Param #   \n",
      "=================================================================\n",
      "embedding (Embedding)        (None, 500, 64)           64000     \n",
      "_________________________________________________________________\n",
      "bidirectional (Bidirectional (None, 128)               66048     \n",
      "_________________________________________________________________\n",
      "dense (Dense)                (None, 64)                8256      \n",
      "_________________________________________________________________\n",
      "dense_1 (Dense)              (None, 64)                4160      \n",
      "_________________________________________________________________\n",
      "dropout (Dropout)            (None, 64)                0         \n",
      "_________________________________________________________________\n",
      "dense_2 (Dense)              (None, 1)                 65        \n",
      "=================================================================\n",
      "Total params: 142,529\n",
      "Trainable params: 142,529\n",
      "Non-trainable params: 0\n",
      "_________________________________________________________________\n"
     ]
    }
   ],
   "source": [
    "def build_model(num_outputs = 1):\n",
    "    model = tf.keras.Sequential()\n",
    "    model.add(tf.keras.layers.Embedding(max_words, 64, input_length=max_length))\n",
    "    model.add(tf.keras.layers.Bidirectional(tf.keras.layers.LSTM(64)))\n",
    "    model.add(tf.keras.layers.Dense(64, activation='relu'))\n",
    "    model.add(tf.keras.layers.Dense(64, activation='relu'))\n",
    "    model.add(tf.keras.layers.Dropout(0.5))\n",
    "    \n",
    "    model.add(tf.keras.layers.Dense(num_outputs))\n",
    "    \n",
    "    return model\n",
    "\n",
    "model = build_model()\n",
    "model.summary()"
   ]
  },
  {
   "cell_type": "code",
   "execution_count": 5,
   "metadata": {
    "colab": {},
    "colab_type": "code",
    "id": "tB-zniaj-tF9"
   },
   "outputs": [],
   "source": [
    "# compile model    \n",
    "model.compile(optimizer = tf.keras.optimizers.Adam(lr=1e-4),\n",
    "              loss = 'binary_crossentropy',\n",
    "              metrics = ['accuracy'])"
   ]
  },
  {
   "cell_type": "markdown",
   "metadata": {
    "colab_type": "text",
    "id": "ANSogecuWw53"
   },
   "source": [
    "# Train\n"
   ]
  },
  {
   "cell_type": "code",
   "execution_count": 6,
   "metadata": {
    "colab": {
     "base_uri": "https://localhost:8080/",
     "height": 55
    },
    "colab_type": "code",
    "id": "QPEBjhQM-yOc",
    "outputId": "b8e48154-88d7-404f-f16e-f29b30b561f0"
   },
   "outputs": [
    {
     "name": "stdout",
     "output_type": "stream",
     "text": [
      "Train on 35918 samples, validate on 4490 samples\n",
      "WARNING:tensorflow:From /home/vector/anaconda3/envs/KerasGPU2.2.4/lib/python3.7/site-packages/tensorflow/python/ops/math_ops.py:3066: to_int32 (from tensorflow.python.ops.math_ops) is deprecated and will be removed in a future version.\n",
      "Instructions for updating:\n",
      "Use tf.cast instead.\n",
      "Epoch 1/5\n",
      "35918/35918 [==============================] - 241s 7ms/sample - loss: 1.9632 - acc: 0.4780 - val_loss: 1.1540 - val_acc: 0.4753\n",
      "Epoch 2/5\n",
      "35918/35918 [==============================] - 237s 7ms/sample - loss: 0.8898 - acc: 0.4860 - val_loss: 0.7066 - val_acc: 0.5020\n",
      "Epoch 3/5\n",
      "35918/35918 [==============================] - 238s 7ms/sample - loss: 0.6776 - acc: 0.5675 - val_loss: 0.6092 - val_acc: 0.6468\n",
      "Epoch 4/5\n",
      "35918/35918 [==============================] - 238s 7ms/sample - loss: 0.5529 - acc: 0.7076 - val_loss: 0.4093 - val_acc: 0.8521\n",
      "Epoch 5/5\n",
      "35918/35918 [==============================] - 237s 7ms/sample - loss: 3.6225 - acc: 0.7147 - val_loss: 4.8373 - val_acc: 0.6699\n"
     ]
    }
   ],
   "source": [
    "# train\n",
    "history = model.fit(sequences_matrix,\n",
    "                    train['true'].values,\n",
    "                    validation_data = ([val_sequences_matrix, val['true'].values]),\n",
    "                    batch_size = 128,\n",
    "                    epochs = 5)\n",
    "    "
   ]
  },
  {
   "cell_type": "markdown",
   "metadata": {
    "colab_type": "text",
    "id": "QfECgQ4oX4qB"
   },
   "source": [
    "# Error Metrics"
   ]
  },
  {
   "cell_type": "code",
   "execution_count": 7,
   "metadata": {
    "colab": {},
    "colab_type": "code",
    "id": "T4ry09_9e8p1"
   },
   "outputs": [
    {
     "data": {
      "image/png": "[encoded data removed]",
      "text/plain": [
       "<Figure size 432x288 with 1 Axes>"
      ]
     },
     "metadata": {
      "needs_background": "light"
     },
     "output_type": "display_data"
    },
    {
     "data": {
      "image/png": "[encoded data removed]",
      "text/plain": [
       "<Figure size 432x288 with 1 Axes>"
      ]
     },
     "metadata": {
      "needs_background": "light"
     },
     "output_type": "display_data"
    }
   ],
   "source": [
    "\n",
    "def plotHistory(history):\n",
    "    ''' This function plots the training and validation loss and accuracy. This code has been writen in the Keras\n",
    "    documentation which is very useful. \n",
    "    '''\n",
    "    # Plot training & validation accuracy values\n",
    "    plt.plot(np.arange(1,len(history.history['acc'])+1), history.history['acc'])\n",
    "    plt.plot(np.arange(1,len(history.history['acc'])+1),history.history['val_acc'])\n",
    "    plt.title('Model accuracy')\n",
    "    plt.ylabel('Accuracy')\n",
    "    plt.xlabel('Epoch')\n",
    "    plt.legend(['Train', 'Test'], loc='upper left')\n",
    "    plt.show()\n",
    "\n",
    "    # Plot training & validation loss values\n",
    "    plt.plot(np.arange(1,len(history.history['acc'])+1),history.history['loss'])\n",
    "    plt.plot(np.arange(1,len(history.history['acc'])+1),history.history['val_loss'])\n",
    "    plt.title('Model loss')\n",
    "    plt.ylabel('Loss')\n",
    "    plt.xlabel('Epoch')\n",
    "    plt.legend(['Train', 'Test'], loc='upper left')\n",
    "    plt.show()\n",
    "\n",
    "# show the training history in a plot.\n",
    "plotHistory(history)\n"
   ]
  },
  {
   "cell_type": "code",
   "execution_count": 8,
   "metadata": {},
   "outputs": [],
   "source": [
    "# we will input x_test data in to model, and get the predicted labels\n",
    "predictions = model.predict(test_sequences_matrix)\n"
   ]
  },
  {
   "cell_type": "code",
   "execution_count": 14,
   "metadata": {},
   "outputs": [
    {
     "name": "stdout",
     "output_type": "stream",
     "text": [
      "              precision    recall  f1-score   support\n",
      "\n",
      "           0       0.85      0.35      0.49      2115\n",
      "           1       0.62      0.95      0.75      2375\n",
      "\n",
      "    accuracy                           0.66      4490\n",
      "   macro avg       0.74      0.65      0.62      4490\n",
      "weighted avg       0.73      0.66      0.63      4490\n",
      "\n"
     ]
    },
    {
     "data": {
      "image/png": "[encoded data removed]",
      "text/plain": [
       "<Figure size 432x432 with 1 Axes>"
      ]
     },
     "metadata": {
      "needs_background": "light"
     },
     "output_type": "display_data"
    }
   ],
   "source": [
    "# print classification report\n",
    "print(classification_report(test['true'].values, predictions>0.5))\n",
    "\n",
    "# create AUC plots\n",
    "def PlotAUC(y_truth, y_pred):\n",
    "    # set up plot\n",
    "    plt.figure(figsize=(6,6))  \n",
    "    plt.xlim([0,1])           \n",
    "    plt.ylim([0,1])           \n",
    "\n",
    "    plt.plot([0,1],[0,1], linestyle='--', color = 'grey')\n",
    "    plt.xlabel('False Positive Rate')\n",
    "    plt.ylabel('True Positive Rate')\n",
    "    plt.title('Receiver operating characteristic example')\n",
    "    \n",
    "    fpr, tpr, thresholds = metrics.roc_curve(y_truth.flatten(), y_pred.flatten())\n",
    "    AUC = metrics.auc(fpr, tpr)\n",
    "\n",
    "    plt.plot(fpr, tpr)\n",
    "    plt.show()\n",
    "    \n",
    "PlotAUC(test['true'].values, predictions)"
   ]
  },
  {
   "cell_type": "code",
   "execution_count": 10,
   "metadata": {},
   "outputs": [
    {
     "name": "stdout",
     "output_type": "stream",
     "text": [
      "WASHINGTON (Reuters) - The U.S. House of Representatives on Thursday narrowly approved a bill to repeal Obamacare, handing Republican President Donald Trump a victory that could prove short-lived as the healthcare legislation heads into a likely tough battle in the Senate. The vote to repeal former President Barack Obama’s signature domestic achievement, which enabled 20 million more Americans to get health insurance, was Trump’s biggest legislative win since he took office in January, putting him on a path to fulfilling one of his key campaign promises as well as a seven-year quest by Republican lawmakers. It marked a reversal of fortune for the Republican president who suffered a stunning defeat in late March when House Republican leaders pulled legislation to scrap Obamacare after they and the White House could not resolve the clashing interests of Republican moderates and the party’s most conservative lawmakers. Trump has called Obamacare a “disaster” and congressional Republicans have long targeted the 2010 law, formally known as the Affordable Care Act, calling it government overreach. But despite holding the White House and controlling both houses of Congress, Republicans have found overturning Obamacare politically perilous, partly because of voter fears, loudly expressed at constituents’ town-hall meetings, that many people would lose their health insurance as a result.     With Thursday’s 217-213 vote, Republicans obtained just enough support to push the legislation through the House, sending it to the Senate for consideration. No Democratic House members voted for the bill. Democrats say it would make insurance unaffordable for those who need it most and leave millions more uninsured. They accuse Republicans of seeking tax cuts for the rich, partly paid for by cutting health benefits. The legislation, called the American Health Care Act, is by no means a sure thing in the Senate, where the Republicans hold a slender 52-48 majority in the 100-seat chamber and where only a few Republican defections could sink it. As Republicans crossed over the vote threshold to pass the bill, Democrats in the House began singing “Na na, na na na na, hey hey hey, goodbye,” a rowdy suggestion that Republicans will lose seats in the 2018 congressional elections because of their vote. Within an hour of the vote, Trump celebrated with House lawmakers in the White House Rose Garden. “I went through two years of campaigning and I’m telling you, no matter where I went, people were suffering so badly with the ravages of Obamacare,” Trump said. “We are going to get this passed through the Senate. I am so confident.” PRE-EXISTING CONDITIONS The treatment of people with “pre-existing” conditions was one of the central issues in the House debate on the bill and is sure to resurface in the Senate. Obamacare prevented insurers from charging those with pre-existing conditions higher rates, a common practice before its implementation. It also required them to cover 10 essential health benefits such as maternity care and prescription drugs. The Republican bill passed on Thursday would allow states to opt out of those provisions. While insurers could not deny people insurance because of pre-existing conditions, they would be allowed to charge them as much as they want. In an analysis released on Thursday, healthcare consultancy and research firm Avalere Health said the Republican bill would cover only 5 percent of enrollees with pre-existing conditions in the individual insurance markets. Republicans have argued that their bill would give people more choice and reduce the role of government. In a push to pass the bill before members leave on Friday for a week in their home districts, the House voted before the bill was assessed by the non-partisan Congressional Budget Office, which estimates its cost and effect on insurance rolls. Republicans have said the bill will be scored by the CBO and other fixes will be made before the Senate votes. Health insurers, such as Anthem Inc, UnitedHealth Group Inc, Aetna Inc and Cigna Corp, have faced months of uncertainty over healthcare’s future. So have hospital companies, such as HCA Holdings Inc and Tenet Healthcare Corp. Obamacare expanded Medicaid, the government insurance program for the poor, provided income-based tax credits to help the poor buy insurance on individual insurance markets set up by the law, and required everyone to buy insurance or pay a penalty. The Republican bill would repeal most Obamacare taxes, which paid for the law, roll back the Medicaid expansion and slash the program’s funding, repeal the penalty for not purchasing insurance and replace the law’s tax credits with flat age-based credits. In a sign of the challenges ahead for the legislation, nearly every major medical group, including the American Medical Association and the American Hospital Association, and the AARP advocacy group for older Americans, strongly opposed the Republican bill. Many said last-minute amendments further eroded protection for the most vulnerable groups, including the sick and elderly. “I’ve already made clear that I don’t support the House bill as currently constructed because I continue to have concerns that this bill does not do enough to protect Ohio’s Medicaid expansion population,” said Republican Senator Rob Portman.   While the bill’s fate in the Senate is uncertain, its House passage could boost Trump’s hopes of pushing through other big-ticket items on his agenda, such as tax reform. The previous failure to overhaul healthcare legislation had raised questions about how much Republicans could work together to help Trump fulfill his campaign pledges. “Anything that they (the Republicans) get done, that they accomplish, popular or unpopular, will show that they have the ability to make progress and to get things done and work together,” said Randy Frederick, vice president trading and derivatives at Charles Schwab in Austin, Texas. “This puts the idea of tax reform a little bit closer to reality, simply because it’s shown that they have figured out a way to negotiate and work together,” he added. \n",
      "0\n",
      "[-0.01889554]\n"
     ]
    }
   ],
   "source": [
    "# print text, it's label, and model prediction\n",
    "prediction_index = 5\n",
    "print(test['text'].values[prediction_index])\n",
    "print(test['true'].values[prediction_index])\n",
    "print(predictions[prediction_index])\n",
    "    "
   ]
  },
  {
   "cell_type": "code",
   "execution_count": null,
   "metadata": {},
   "outputs": [],
   "source": []
  }
 ],
 "metadata": {
  "colab": {
   "collapsed_sections": [],
   "name": "TextClassificationRNN",
   "provenance": [],
   "toc_visible": true
  },
  "kernelspec": {
   "display_name": "Python 3",
   "language": "python",
   "name": "python3"
  },
  "language_info": {
   "codemirror_mode": {
    "name": "ipython",
    "version": 3
   },
   "file_extension": ".py",
   "mimetype": "text/x-python",
   "name": "python",
   "nbconvert_exporter": "python",
   "pygments_lexer": "ipython3",
   "version": "3.7.6"
  }
 },
 "nbformat": 4,
 "nbformat_minor": 1
}
