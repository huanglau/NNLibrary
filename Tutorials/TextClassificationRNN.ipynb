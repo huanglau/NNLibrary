{
 "cells": [
  {
   "cell_type": "markdown",
   "metadata": {
    "colab_type": "text",
    "id": "xAkGLARhozvD"
   },
   "source": [
    "# Text Classification with RNN\n",
    "\n",
    "This uses the fake news and real news dataset on kaggle. You can download the data here:\n",
    "https://www.kaggle.com/clmentbisaillon/fake-and-real-news-dataset"
   ]
  },
  {
   "cell_type": "code",
   "execution_count": 6,
   "metadata": {
    "colab": {},
    "colab_type": "code",
    "id": "v4_dukKEm1VL"
   },
   "outputs": [],
   "source": [
    "# load packages\n",
    "import tensorflow as tf\n",
    "import pandas as pd\n",
    "import numpy as np\n",
    "import matplotlib.pyplot as plt\n",
    "from sklearn.model_selection import train_test_split\n",
    "from sklearn.metrics import classification_report\n",
    "\n",
    "from tensorflow.keras.preprocessing.text import Tokenizer\n",
    "from tensorflow.keras.preprocessing import sequence\n"
   ]
  },
  {
   "cell_type": "markdown",
   "metadata": {
    "colab_type": "text",
    "id": "VVX3PUETm3Zt"
   },
   "source": []
  },
  {
   "cell_type": "code",
   "execution_count": 7,
   "metadata": {
    "colab": {},
    "colab_type": "code",
    "id": "IFhydkZrEaeF"
   },
   "outputs": [],
   "source": [
    "# load data\n",
    "fake_news = pd.read_csv('../../Data/FakeNews/Fake.csv')\n",
    "true_news = pd.read_csv('../../Data/FakeNews/True.csv')\n",
    "\n",
    "# add the classification to the pandas dataframe\n",
    "fake_news['true'] = 1\n",
    "true_news['true'] = 0\n",
    "\n",
    "# Merge data into one dataframe\n",
    "news = pd.concat([true_news[['text', 'true']], fake_news[['text', 'true']]])\n",
    "\n",
    "# split into train test validate\n",
    "train, test_val = train_test_split(news, test_size=0.2)\n",
    "test, val = train_test_split(test_val, test_size=0.5)"
   ]
  },
  {
   "cell_type": "markdown",
   "metadata": {
    "colab_type": "text",
    "id": "ECE6x5ZBnDX2"
   },
   "source": [
    "# Tokenizing"
   ]
  },
  {
   "cell_type": "code",
   "execution_count": 8,
   "metadata": {
    "colab": {
     "base_uri": "https://localhost:8080/",
     "height": 325
    },
    "colab_type": "code",
    "id": "Fw9pMqfXrvBh",
    "outputId": "555d48b6-f2a2-4ecf-abd3-d7c5289f0112"
   },
   "outputs": [],
   "source": [
    "#%% tokenize data\n",
    "max_length = 500\n",
    "max_words = 1000\n",
    "tokenizer = Tokenizer(num_words = max_words, oov_token = '<OOV>')\n",
    "\n",
    "# don't include training or test data in word index\n",
    "tokenizer.fit_on_texts(train['text'].values) \n",
    "\n",
    "sequences = tokenizer.texts_to_sequences(train['text'].values)\n",
    "test_sequences = tokenizer.texts_to_sequences(test['text'].values)\n",
    "val_sequences = tokenizer.texts_to_sequences(val['text'].values)\n",
    "\n",
    "# pad to same length\n",
    "sequences_matrix = sequence.pad_sequences(sequences, maxlen=max_length)\n",
    "test_sequences_matrix = sequence.pad_sequences(test_sequences, maxlen=max_length)\n",
    "val_sequences_matrix = sequence.pad_sequences(val_sequences, maxlen=max_length)\n",
    "\n"
   ]
  },
  {
   "cell_type": "markdown",
   "metadata": {
    "colab_type": "text",
    "id": "TrkLkhywm_9S"
   },
   "source": [
    "# Build model"
   ]
  },
  {
   "cell_type": "markdown",
   "metadata": {
    "colab_type": "text",
    "id": "ndLkN5uLWLPI"
   },
   "source": []
  },
  {
   "cell_type": "code",
   "execution_count": 9,
   "metadata": {
    "colab": {
     "base_uri": "https://localhost:8080/",
     "height": 377
    },
    "colab_type": "code",
    "id": "LXWFTyChFzOu",
    "outputId": "0a59557a-478f-415c-8f63-dbd73ae6d1b1"
   },
   "outputs": [
    {
     "name": "stdout",
     "output_type": "stream",
     "text": [
      "WARNING:tensorflow:From /home/vector/anaconda3/envs/KerasGPU2.2.4/lib/python3.7/site-packages/tensorflow/python/ops/resource_variable_ops.py:435: colocate_with (from tensorflow.python.framework.ops) is deprecated and will be removed in a future version.\n",
      "Instructions for updating:\n",
      "Colocations handled automatically by placer.\n",
      "WARNING:tensorflow:From /home/vector/anaconda3/envs/KerasGPU2.2.4/lib/python3.7/site-packages/tensorflow/python/keras/layers/core.py:143: calling dropout (from tensorflow.python.ops.nn_ops) with keep_prob is deprecated and will be removed in a future version.\n",
      "Instructions for updating:\n",
      "Please use `rate` instead of `keep_prob`. Rate should be set to `rate = 1 - keep_prob`.\n",
      "_________________________________________________________________\n",
      "Layer (type)                 Output Shape              Param #   \n",
      "=================================================================\n",
      "embedding (Embedding)        (None, 500, 64)           64000     \n",
      "_________________________________________________________________\n",
      "bidirectional (Bidirectional (None, 128)               66048     \n",
      "_________________________________________________________________\n",
      "dense (Dense)                (None, 64)                8256      \n",
      "_________________________________________________________________\n",
      "dense_1 (Dense)              (None, 64)                4160      \n",
      "_________________________________________________________________\n",
      "dropout (Dropout)            (None, 64)                0         \n",
      "_________________________________________________________________\n",
      "dense_2 (Dense)              (None, 1)                 65        \n",
      "=================================================================\n",
      "Total params: 142,529\n",
      "Trainable params: 142,529\n",
      "Non-trainable params: 0\n",
      "_________________________________________________________________\n"
     ]
    }
   ],
   "source": [
    "def build_model(num_outputs = 1):\n",
    "    model = tf.keras.Sequential()\n",
    "    model.add(tf.keras.layers.Embedding(max_words, 64, input_length=max_length))\n",
    "    model.add(tf.keras.layers.Bidirectional(tf.keras.layers.LSTM(64)))\n",
    "    model.add(tf.keras.layers.Dense(64, activation='relu'))\n",
    "    model.add(tf.keras.layers.Dense(64, activation='relu'))\n",
    "    model.add(tf.keras.layers.Dropout(0.5))\n",
    "    \n",
    "    model.add(tf.keras.layers.Dense(num_outputs))\n",
    "    \n",
    "    return model\n",
    "\n",
    "model = build_model()\n",
    "model.summary()"
   ]
  },
  {
   "cell_type": "code",
   "execution_count": 15,
   "metadata": {
    "colab": {},
    "colab_type": "code",
    "id": "tB-zniaj-tF9"
   },
   "outputs": [],
   "source": [
    "# compile model    \n",
    "model.compile(optimizer = tf.keras.optimizers.Adam(lr=1e-4),\n",
    "              loss = 'binary_crossentropy',\n",
    "              metrics = ['accuracy'])"
   ]
  },
  {
   "cell_type": "markdown",
   "metadata": {
    "colab_type": "text",
    "id": "ANSogecuWw53"
   },
   "source": [
    "# Train\n"
   ]
  },
  {
   "cell_type": "code",
   "execution_count": null,
   "metadata": {
    "colab": {
     "base_uri": "https://localhost:8080/",
     "height": 55
    },
    "colab_type": "code",
    "id": "QPEBjhQM-yOc",
    "outputId": "b8e48154-88d7-404f-f16e-f29b30b561f0"
   },
   "outputs": [
    {
     "name": "stdout",
     "output_type": "stream",
     "text": [
      "Train on 35918 samples, validate on 4490 samples\n",
      "Epoch 1/5\n",
      "35918/35918 [==============================] - 133s 4ms/sample - loss: 0.9797 - acc: 0.5016 - val_loss: 0.6402 - val_acc: 0.6646\n",
      "Epoch 2/5\n",
      " 1280/35918 [>.............................] - ETA: 2:08 - loss: 0.6518 - acc: 0.6211"
     ]
    }
   ],
   "source": [
    "# train\n",
    "history = model.fit(sequences_matrix,\n",
    "                    train['true'].values,\n",
    "                    validation_data = ([val_sequences_matrix, val['true'].values]),\n",
    "                    batch_size = 256,\n",
    "                    epochs = 5)\n",
    "    "
   ]
  },
  {
   "cell_type": "markdown",
   "metadata": {
    "colab_type": "text",
    "id": "QfECgQ4oX4qB"
   },
   "source": [
    "# Error Metrics"
   ]
  },
  {
   "cell_type": "code",
   "execution_count": 14,
   "metadata": {
    "colab": {},
    "colab_type": "code",
    "id": "T4ry09_9e8p1"
   },
   "outputs": [
    {
     "data": {
      "image/png": "[encoded data removed]",
      "text/plain": [
       "<Figure size 432x288 with 1 Axes>"
      ]
     },
     "metadata": {
      "needs_background": "light"
     },
     "output_type": "display_data"
    },
    {
     "data": {
      "image/png": "[encoded data removed]",
      "text/plain": [
       "<Figure size 432x288 with 1 Axes>"
      ]
     },
     "metadata": {
      "needs_background": "light"
     },
     "output_type": "display_data"
    }
   ],
   "source": [
    "\n",
    "def plotHistory(history):\n",
    "    ''' This function plots the training and validation loss and accuracy. This code has been writen in the Keras\n",
    "    documentation which is very useful. \n",
    "    '''\n",
    "    # Plot training & validation accuracy values\n",
    "    plt.plot(np.arange(1,len(history.history['acc']+1)), history.history['acc'])\n",
    "    plt.plot(np.arange(1,len(history.history['acc']+1)),history.history['val_acc'])\n",
    "    plt.title('Model accuracy')\n",
    "    plt.ylabel('Accuracy')\n",
    "    plt.xlabel('Epoch')\n",
    "    plt.legend(['Train', 'Test'], loc='upper left')\n",
    "    plt.show()\n",
    "\n",
    "    # Plot training & validation loss values\n",
    "    plt.plot(np.arange(1,len(history.history['acc']+1)),history.history['loss'])\n",
    "    plt.plot(np.arange(1,len(history.history['acc']+1)),history.history['val_loss'])\n",
    "    plt.title('Model loss')\n",
    "    plt.ylabel('Loss')\n",
    "    plt.xlabel('Epoch')\n",
    "    plt.legend(['Train', 'Test'], loc='upper left')\n",
    "    plt.show()\n",
    "\n",
    "# show the training history in a plot.\n",
    "plotHistory(history)\n"
   ]
  },
  {
   "cell_type": "code",
   "execution_count": null,
   "metadata": {},
   "outputs": [],
   "source": [
    "\n",
    "# we will input x_test data in to model, and get the predicted labels\n",
    "y_pred = model.predict(x_test, batch_size=128, verbose=1)\n"
   ]
  },
  {
   "cell_type": "code",
   "execution_count": null,
   "metadata": {},
   "outputs": [],
   "source": [
    "print(classification_report(test['true'].values, predictions>0.5))\n"
   ]
  }
 ],
 "metadata": {
  "colab": {
   "collapsed_sections": [],
   "name": "TextClassificationRNN",
   "provenance": [],
   "toc_visible": true
  },
  "kernelspec": {
   "display_name": "Python 3",
   "language": "python",
   "name": "python3"
  },
  "language_info": {
   "codemirror_mode": {
    "name": "ipython",
    "version": 3
   },
   "file_extension": ".py",
   "mimetype": "text/x-python",
   "name": "python",
   "nbconvert_exporter": "python",
   "pygments_lexer": "ipython3",
   "version": "3.7.6"
  }
 },
 "nbformat": 4,
 "nbformat_minor": 1
}
